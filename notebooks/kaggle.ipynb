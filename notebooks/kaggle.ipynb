{
 "metadata": {
  "language_info": {
   "codemirror_mode": {
    "name": "ipython",
    "version": 3
   },
   "file_extension": ".py",
   "mimetype": "text/x-python",
   "name": "python",
   "nbconvert_exporter": "python",
   "pygments_lexer": "ipython3",
   "version": "3.8.5-final"
  },
  "orig_nbformat": 2,
  "kernelspec": {
   "name": "python3",
   "display_name": "Python 3.8.5 64-bit ('deneme': conda)",
   "metadata": {
    "interpreter": {
     "hash": "ee72a30c5f6d113551513725604adea714e893713f4c0ab7fc96f08bddff6bdc"
    }
   }
  }
 },
 "nbformat": 4,
 "nbformat_minor": 2,
 "cells": [
  {
   "cell_type": "code",
   "execution_count": 2,
   "metadata": {},
   "outputs": [],
   "source": [
    "# Import libraries\n",
    "import pandas as pd\n",
    "import numpy as np\n",
    "import networkx as nx\n",
    "import matplotlib.pyplot as plt\n",
    "import community as community_louvain\n",
    "%matplotlib inline"
   ]
  },
  {
   "cell_type": "code",
   "execution_count": 5,
   "metadata": {},
   "outputs": [],
   "source": [
    "df = pd.read_excel(\"../data/Online Retail.xlsx\")"
   ]
  },
  {
   "cell_type": "code",
   "execution_count": 6,
   "metadata": {},
   "outputs": [],
   "source": [
    "df_sample = df.iloc[:200] "
   ]
  },
  {
   "cell_type": "code",
   "execution_count": 7,
   "metadata": {},
   "outputs": [
    {
     "output_type": "execute_result",
     "data": {
      "text/plain": [
       "    InvoiceNo StockCode                          Description  Quantity  \\\n",
       "0      536365    85123A   WHITE HANGING HEART T-LIGHT HOLDER         6   \n",
       "1      536365     71053                  WHITE METAL LANTERN         6   \n",
       "2      536365    84406B       CREAM CUPID HEARTS COAT HANGER         8   \n",
       "3      536365    84029G  KNITTED UNION FLAG HOT WATER BOTTLE         6   \n",
       "4      536365    84029E       RED WOOLLY HOTTIE WHITE HEART.         6   \n",
       "..        ...       ...                                  ...       ...   \n",
       "195    536388     22469                HEART OF WICKER SMALL        12   \n",
       "196    536388     22242        5 HOOK HANGER MAGIC TOADSTOOL        12   \n",
       "197    536389     22941         CHRISTMAS LIGHTS 10 REINDEER         6   \n",
       "198    536389     21622     VINTAGE UNION JACK CUSHION COVER         8   \n",
       "199    536389     21791   VINTAGE HEADS AND TAILS CARD GAME         12   \n",
       "\n",
       "            InvoiceDate  UnitPrice  CustomerID         Country  \n",
       "0   2010-12-01 08:26:00       2.55     17850.0  United Kingdom  \n",
       "1   2010-12-01 08:26:00       3.39     17850.0  United Kingdom  \n",
       "2   2010-12-01 08:26:00       2.75     17850.0  United Kingdom  \n",
       "3   2010-12-01 08:26:00       3.39     17850.0  United Kingdom  \n",
       "4   2010-12-01 08:26:00       3.39     17850.0  United Kingdom  \n",
       "..                  ...        ...         ...             ...  \n",
       "195 2010-12-01 09:59:00       1.65     16250.0  United Kingdom  \n",
       "196 2010-12-01 09:59:00       1.65     16250.0  United Kingdom  \n",
       "197 2010-12-01 10:03:00       8.50     12431.0       Australia  \n",
       "198 2010-12-01 10:03:00       4.95     12431.0       Australia  \n",
       "199 2010-12-01 10:03:00       1.25     12431.0       Australia  \n",
       "\n",
       "[200 rows x 8 columns]"
      ],
      "text/html": "<div>\n<style scoped>\n    .dataframe tbody tr th:only-of-type {\n        vertical-align: middle;\n    }\n\n    .dataframe tbody tr th {\n        vertical-align: top;\n    }\n\n    .dataframe thead th {\n        text-align: right;\n    }\n</style>\n<table border=\"1\" class=\"dataframe\">\n  <thead>\n    <tr style=\"text-align: right;\">\n      <th></th>\n      <th>InvoiceNo</th>\n      <th>StockCode</th>\n      <th>Description</th>\n      <th>Quantity</th>\n      <th>InvoiceDate</th>\n      <th>UnitPrice</th>\n      <th>CustomerID</th>\n      <th>Country</th>\n    </tr>\n  </thead>\n  <tbody>\n    <tr>\n      <th>0</th>\n      <td>536365</td>\n      <td>85123A</td>\n      <td>WHITE HANGING HEART T-LIGHT HOLDER</td>\n      <td>6</td>\n      <td>2010-12-01 08:26:00</td>\n      <td>2.55</td>\n      <td>17850.0</td>\n      <td>United Kingdom</td>\n    </tr>\n    <tr>\n      <th>1</th>\n      <td>536365</td>\n      <td>71053</td>\n      <td>WHITE METAL LANTERN</td>\n      <td>6</td>\n      <td>2010-12-01 08:26:00</td>\n      <td>3.39</td>\n      <td>17850.0</td>\n      <td>United Kingdom</td>\n    </tr>\n    <tr>\n      <th>2</th>\n      <td>536365</td>\n      <td>84406B</td>\n      <td>CREAM CUPID HEARTS COAT HANGER</td>\n      <td>8</td>\n      <td>2010-12-01 08:26:00</td>\n      <td>2.75</td>\n      <td>17850.0</td>\n      <td>United Kingdom</td>\n    </tr>\n    <tr>\n      <th>3</th>\n      <td>536365</td>\n      <td>84029G</td>\n      <td>KNITTED UNION FLAG HOT WATER BOTTLE</td>\n      <td>6</td>\n      <td>2010-12-01 08:26:00</td>\n      <td>3.39</td>\n      <td>17850.0</td>\n      <td>United Kingdom</td>\n    </tr>\n    <tr>\n      <th>4</th>\n      <td>536365</td>\n      <td>84029E</td>\n      <td>RED WOOLLY HOTTIE WHITE HEART.</td>\n      <td>6</td>\n      <td>2010-12-01 08:26:00</td>\n      <td>3.39</td>\n      <td>17850.0</td>\n      <td>United Kingdom</td>\n    </tr>\n    <tr>\n      <th>...</th>\n      <td>...</td>\n      <td>...</td>\n      <td>...</td>\n      <td>...</td>\n      <td>...</td>\n      <td>...</td>\n      <td>...</td>\n      <td>...</td>\n    </tr>\n    <tr>\n      <th>195</th>\n      <td>536388</td>\n      <td>22469</td>\n      <td>HEART OF WICKER SMALL</td>\n      <td>12</td>\n      <td>2010-12-01 09:59:00</td>\n      <td>1.65</td>\n      <td>16250.0</td>\n      <td>United Kingdom</td>\n    </tr>\n    <tr>\n      <th>196</th>\n      <td>536388</td>\n      <td>22242</td>\n      <td>5 HOOK HANGER MAGIC TOADSTOOL</td>\n      <td>12</td>\n      <td>2010-12-01 09:59:00</td>\n      <td>1.65</td>\n      <td>16250.0</td>\n      <td>United Kingdom</td>\n    </tr>\n    <tr>\n      <th>197</th>\n      <td>536389</td>\n      <td>22941</td>\n      <td>CHRISTMAS LIGHTS 10 REINDEER</td>\n      <td>6</td>\n      <td>2010-12-01 10:03:00</td>\n      <td>8.50</td>\n      <td>12431.0</td>\n      <td>Australia</td>\n    </tr>\n    <tr>\n      <th>198</th>\n      <td>536389</td>\n      <td>21622</td>\n      <td>VINTAGE UNION JACK CUSHION COVER</td>\n      <td>8</td>\n      <td>2010-12-01 10:03:00</td>\n      <td>4.95</td>\n      <td>12431.0</td>\n      <td>Australia</td>\n    </tr>\n    <tr>\n      <th>199</th>\n      <td>536389</td>\n      <td>21791</td>\n      <td>VINTAGE HEADS AND TAILS CARD GAME</td>\n      <td>12</td>\n      <td>2010-12-01 10:03:00</td>\n      <td>1.25</td>\n      <td>12431.0</td>\n      <td>Australia</td>\n    </tr>\n  </tbody>\n</table>\n<p>200 rows × 8 columns</p>\n</div>"
     },
     "metadata": {},
     "execution_count": 7
    }
   ],
   "source": [
    "df_sample"
   ]
  },
  {
   "cell_type": "code",
   "execution_count": 9,
   "metadata": {},
   "outputs": [
    {
     "output_type": "execute_result",
     "data": {
      "text/plain": [
       "    StockCode                          Description\n",
       "0      85123A   WHITE HANGING HEART T-LIGHT HOLDER\n",
       "1       71053                  WHITE METAL LANTERN\n",
       "2      84406B       CREAM CUPID HEARTS COAT HANGER\n",
       "3      84029G  KNITTED UNION FLAG HOT WATER BOTTLE\n",
       "4      84029E       RED WOOLLY HOTTIE WHITE HEART.\n",
       "..        ...                                  ...\n",
       "193     22923  FRIDGE MAGNETS LES ENFANTS ASSORTED\n",
       "194     21115                ROSE CARAVAN DOORSTOP\n",
       "196     22242        5 HOOK HANGER MAGIC TOADSTOOL\n",
       "197     22941         CHRISTMAS LIGHTS 10 REINDEER\n",
       "198     21622     VINTAGE UNION JACK CUSHION COVER\n",
       "\n",
       "[156 rows x 2 columns]"
      ],
      "text/html": "<div>\n<style scoped>\n    .dataframe tbody tr th:only-of-type {\n        vertical-align: middle;\n    }\n\n    .dataframe tbody tr th {\n        vertical-align: top;\n    }\n\n    .dataframe thead th {\n        text-align: right;\n    }\n</style>\n<table border=\"1\" class=\"dataframe\">\n  <thead>\n    <tr style=\"text-align: right;\">\n      <th></th>\n      <th>StockCode</th>\n      <th>Description</th>\n    </tr>\n  </thead>\n  <tbody>\n    <tr>\n      <th>0</th>\n      <td>85123A</td>\n      <td>WHITE HANGING HEART T-LIGHT HOLDER</td>\n    </tr>\n    <tr>\n      <th>1</th>\n      <td>71053</td>\n      <td>WHITE METAL LANTERN</td>\n    </tr>\n    <tr>\n      <th>2</th>\n      <td>84406B</td>\n      <td>CREAM CUPID HEARTS COAT HANGER</td>\n    </tr>\n    <tr>\n      <th>3</th>\n      <td>84029G</td>\n      <td>KNITTED UNION FLAG HOT WATER BOTTLE</td>\n    </tr>\n    <tr>\n      <th>4</th>\n      <td>84029E</td>\n      <td>RED WOOLLY HOTTIE WHITE HEART.</td>\n    </tr>\n    <tr>\n      <th>...</th>\n      <td>...</td>\n      <td>...</td>\n    </tr>\n    <tr>\n      <th>193</th>\n      <td>22923</td>\n      <td>FRIDGE MAGNETS LES ENFANTS ASSORTED</td>\n    </tr>\n    <tr>\n      <th>194</th>\n      <td>21115</td>\n      <td>ROSE CARAVAN DOORSTOP</td>\n    </tr>\n    <tr>\n      <th>196</th>\n      <td>22242</td>\n      <td>5 HOOK HANGER MAGIC TOADSTOOL</td>\n    </tr>\n    <tr>\n      <th>197</th>\n      <td>22941</td>\n      <td>CHRISTMAS LIGHTS 10 REINDEER</td>\n    </tr>\n    <tr>\n      <th>198</th>\n      <td>21622</td>\n      <td>VINTAGE UNION JACK CUSHION COVER</td>\n    </tr>\n  </tbody>\n</table>\n<p>156 rows × 2 columns</p>\n</div>"
     },
     "metadata": {},
     "execution_count": 9
    }
   ],
   "source": [
    "#Delete rows with no Customer ID (if there is such a case)\n",
    "cleaned_retail = df_sample.loc[pd.isnull(df_sample.CustomerID) == False]\n",
    "\n",
    "# Create a lookup table\n",
    "item_lookup = cleaned_retail[['StockCode', 'Description']].drop_duplicates()\n",
    "item_lookup['StockCode'] = item_lookup.StockCode.astype(str)\n",
    "item_lookup\n",
    "# #Do some 'data cleaning' to raw data\n",
    "# cleaned_retail['CustomerID'] = cleaned_retail.CustomerID.astype(int)\n",
    "# cleaned_retail = cleaned_retail[['StockCode', 'Quantity', 'CustomerID']]\n",
    "# grouped_cleaned = cleaned_retail.groupby(['CustomerID', 'StockCode']).sum().reset_index()\n",
    "# grouped_cleaned.Quantity.loc[grouped_cleaned.Quantity == 0] = 1\n",
    "# grouped_purchased = grouped_cleaned.query('Quantity > 0')"
   ]
  },
  {
   "cell_type": "code",
   "execution_count": null,
   "metadata": {},
   "outputs": [],
   "source": [
    "#Count number of products and number of customers in the reduced dataset \n",
    "no_products = len(grouped_purchased.StockCode.unique())\n",
    "no_customers = len(grouped_purchased.CustomerID.unique())\n",
    "print('Number of customers in dataset:', no_customers)\n",
    "print('Number of products in dataset:', no_products)"
   ]
  },
  {
   "cell_type": "code",
   "execution_count": null,
   "metadata": {},
   "outputs": [],
   "source": [
    "#Turn raw data to pivot ('ratings' matrix)\n",
    "ratings = grouped_purchased.pivot(index = 'CustomerID', columns='StockCode', values='Quantity').fillna(0).astype('int')\n",
    "#Binarize the ratings matrix (indicate only if a customer has purchased a product or not)\n",
    "ratings_binary = ratings.copy()\n",
    "ratings_binary[ratings_binary != 0] = 1\n"
   ]
  },
  {
   "cell_type": "code",
   "execution_count": null,
   "metadata": {},
   "outputs": [],
   "source": [
    "#Initialize zeros dataframe for product interactions\n",
    "products_integer = np.zeros((no_products,no_products))\n",
    "\n",
    "#Count how many times each product pair has been purchased\n",
    "print('Counting how many times each pair of products has been purchased...')\n",
    "for i in range(no_products):\n",
    "    for j in range(no_products):\n",
    "        if i != j:\n",
    "            df_ij = ratings_binary.iloc[:,[i,j]] #create a temporary df with only i and j products as columns\n",
    "            sum_ij = df_ij.sum(axis=1)\n",
    "            pairings_ij = len(sum_ij[sum_ij == 2]) #if s1_ij == 2 it means that both products were purchased by the same customer\n",
    "            products_integer[i,j] = pairings_ij\n",
    "            products_integer[j,i] = pairings_ij"
   ]
  },
  {
   "cell_type": "code",
   "execution_count": null,
   "metadata": {},
   "outputs": [],
   "source": [
    "#Count how many customers have purchased each item\n",
    "print('Counting how many times each individual product has been purchased...')\n",
    "times_purchased = products_integer.sum(axis = 1)"
   ]
  },
  {
   "cell_type": "code",
   "execution_count": null,
   "metadata": {},
   "outputs": [],
   "source": [
    "#Construct final weighted matrix of item interactions\n",
    "print('Building weighted product matrix...')\n",
    "products_weighted = np.zeros((no_products,no_products))\n",
    "for i in range(no_products):\n",
    "    for j in range(no_products):\n",
    "        if (times_purchased[i]+times_purchased[j]) !=0: #make sure you do not divide with zero\n",
    "            products_weighted[i,j] = (products_integer[i,j])/(times_purchased[i]+times_purchased[j])"
   ]
  },
  {
   "cell_type": "code",
   "execution_count": null,
   "metadata": {},
   "outputs": [],
   "source": [
    "#Get list of item labels (instead of Codes)\n",
    "nodes_codes = np.array(ratings_binary.columns).astype('str')\n",
    "item_lookup_dict = pd.Series(item_lookup.Description.values,index=item_lookup.StockCode).to_dict()\n",
    "nodes_labels = [item_lookup_dict[code] for code in nodes_codes]"
   ]
  },
  {
   "cell_type": "code",
   "execution_count": null,
   "metadata": {},
   "outputs": [],
   "source": [
    "#Find communities of nodes (products)\n",
    "partition = community_louvain.best_partition(G, resolution = 1.5)\n",
    "values = list(partition.values())"
   ]
  },
  {
   "cell_type": "code",
   "execution_count": null,
   "metadata": {},
   "outputs": [],
   "source": [
    "#Check how many communities were created\n",
    "print('Number of communities:', len(np.unique(values)))"
   ]
  },
  {
   "cell_type": "code",
   "execution_count": null,
   "metadata": {},
   "outputs": [],
   "source": [
    "#Create dataframe with product description and community id\n",
    "products_communities = pd.DataFrame(nodes_labels, columns = ['product_description'])\n",
    "products_communities['community_id'] = values"
   ]
  },
  {
   "cell_type": "code",
   "execution_count": null,
   "metadata": {},
   "outputs": [],
   "source": [
    "products_communities[products_communities['community_id']==1].head(15)\n"
   ]
  },
  {
   "cell_type": "code",
   "execution_count": null,
   "metadata": {},
   "outputs": [],
   "source": [
    "#Lets now divide each element in products_weighted dataframe with the maximum of each row.\n",
    "#This will normalize values in the row and we can perceive it as the possibility af a customer also buying\n",
    "#product in column j after showing interest for the product in row i\n",
    "\n",
    "#Turn into dataframe\n",
    "products_weighted_pd = pd.DataFrame(products_weighted, columns = nodes_labels)\n",
    "products_weighted_pd.set_index(products_weighted_pd.columns, 'product', inplace=True)\n",
    "\n",
    "products_prob = products_weighted_pd.divide(products_weighted_pd.max(axis = 1), axis = 0)"
   ]
  },
  {
   "cell_type": "code",
   "execution_count": null,
   "metadata": {},
   "outputs": [],
   "source": [
    "#Now lets select a hypothetical basket of goods (one or more products) that a customer has already purchased or\n",
    "#shown an interest for by clicking on an add or something, and then suggest him relative ones\n",
    "basket = ['HOME BUILDING BLOCK WORD']\n",
    "#Also select the number of relevant items to suggest\n",
    "no_of_suggestions = 3\n",
    "\n",
    "all_of_basket = products_prob[basket]\n",
    "all_of_basket = all_of_basket.sort_values(by = basket, ascending=False)\n",
    "suggestions_to_customer = list(all_of_basket.index[:no_of_suggestions])\n",
    "\n",
    "print('You may also consider buying:', suggestions_to_customer)"
   ]
  },
  {
   "cell_type": "code",
   "execution_count": null,
   "metadata": {},
   "outputs": [],
   "source": []
  }
 ]
}